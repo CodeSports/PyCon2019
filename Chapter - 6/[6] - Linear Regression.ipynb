{
 "cells": [
  {
   "cell_type": "markdown",
   "metadata": {},
   "source": [
    "# PyCon2019: Hello World of Machine Learning using Scikit-learn\n",
    "\n",
    "\n",
    "## [6] - Linear Regression \n",
    "\n",
    "<br/>\n",
    "\n",
    "_Let's understand Linear Regression, a supervised learning method for predicting the regression values based on the learning prior data which has a linear relationship_\n",
    "\n",
    "<br/>"
   ]
  },
  {
   "cell_type": "markdown",
   "metadata": {},
   "source": [
    "<br/><br/>"
   ]
  },
  {
   "cell_type": "markdown",
   "metadata": {},
   "source": [
    "__The Dataset__\n",
    "\n",
    "_Let's generate our own limited dataset_\n",
    "\n",
    "Farm Product and it's price at different locations (Distance in Miles)"
   ]
  },
  {
   "cell_type": "markdown",
   "metadata": {},
   "source": [
    "- __Local Farm Market ( 4 Miles from farm) - 10 Dollars__\n",
    "- __Village ( 12 Miles from farm ) - 28 Dollars__\n",
    "- __Town ( 25 Miles from farm ) - 54 Dollars__\n",
    "- __City ( 52 Miles from farm ) - 84 Dollars__\n",
    "- __Downtown ( 60 Miles from farm ) - 90 Dollars__\n"
   ]
  },
  {
   "cell_type": "markdown",
   "metadata": {},
   "source": [
    "___Distance from farm will be on 'X-axis' and price will be on 'y-axis'___"
   ]
  },
  {
   "cell_type": "markdown",
   "metadata": {},
   "source": [
    "<br/><br/><br/>"
   ]
  },
  {
   "cell_type": "code",
   "execution_count": 82,
   "metadata": {},
   "outputs": [],
   "source": [
    "import numpy as np"
   ]
  },
  {
   "cell_type": "code",
   "execution_count": 83,
   "metadata": {},
   "outputs": [],
   "source": [
    "X_Distance = np.array([4, 12, 25, 52, 60])\n",
    "y_price = np.array([10, 28, 54, 84, 90])"
   ]
  },
  {
   "cell_type": "code",
   "execution_count": 84,
   "metadata": {},
   "outputs": [
    {
     "data": {
      "text/plain": [
       "(array([ 4, 12, 25, 52, 60]), array([10, 28, 54, 84, 90]))"
      ]
     },
     "execution_count": 84,
     "metadata": {},
     "output_type": "execute_result"
    }
   ],
   "source": [
    "X_Distance, y_price"
   ]
  },
  {
   "cell_type": "markdown",
   "metadata": {},
   "source": [
    "<br/><br/>"
   ]
  },
  {
   "cell_type": "markdown",
   "metadata": {},
   "source": [
    "___Remember --> Single row of numbers has to be represented as colum vector___"
   ]
  },
  {
   "cell_type": "code",
   "execution_count": 85,
   "metadata": {},
   "outputs": [
    {
     "data": {
      "text/plain": [
       "array([[ 4],\n",
       "       [12],\n",
       "       [25],\n",
       "       [52],\n",
       "       [60]])"
      ]
     },
     "execution_count": 85,
     "metadata": {},
     "output_type": "execute_result"
    }
   ],
   "source": [
    "X_Distance.reshape(5,1)"
   ]
  },
  {
   "cell_type": "code",
   "execution_count": 86,
   "metadata": {},
   "outputs": [
    {
     "data": {
      "text/plain": [
       "array([ 4, 12, 25, 52, 60])"
      ]
     },
     "execution_count": 86,
     "metadata": {},
     "output_type": "execute_result"
    }
   ],
   "source": [
    "X_Distance"
   ]
  },
  {
   "cell_type": "markdown",
   "metadata": {},
   "source": [
    "<br/><br/><br/>"
   ]
  },
  {
   "cell_type": "code",
   "execution_count": 87,
   "metadata": {},
   "outputs": [],
   "source": [
    "X_Distance.shape = (5,1)"
   ]
  },
  {
   "cell_type": "code",
   "execution_count": 88,
   "metadata": {},
   "outputs": [
    {
     "data": {
      "text/plain": [
       "array([[ 4],\n",
       "       [12],\n",
       "       [25],\n",
       "       [52],\n",
       "       [60]])"
      ]
     },
     "execution_count": 88,
     "metadata": {},
     "output_type": "execute_result"
    }
   ],
   "source": [
    "X_Distance"
   ]
  },
  {
   "cell_type": "code",
   "execution_count": 89,
   "metadata": {},
   "outputs": [
    {
     "data": {
      "text/plain": [
       "array([[10],\n",
       "       [28],\n",
       "       [54],\n",
       "       [84],\n",
       "       [90]])"
      ]
     },
     "execution_count": 89,
     "metadata": {},
     "output_type": "execute_result"
    }
   ],
   "source": [
    "y_price.shape = (5,1) \n",
    "y_price"
   ]
  },
  {
   "cell_type": "markdown",
   "metadata": {},
   "source": [
    "<br/><br/><br/>"
   ]
  },
  {
   "cell_type": "markdown",
   "metadata": {},
   "source": [
    "___Let's plot the 'X' and 'y' using Matplotlib.pyplot___"
   ]
  },
  {
   "cell_type": "code",
   "execution_count": 90,
   "metadata": {},
   "outputs": [],
   "source": [
    "import matplotlib.pyplot as plt"
   ]
  },
  {
   "cell_type": "code",
   "execution_count": 91,
   "metadata": {},
   "outputs": [
    {
     "data": {
      "text/plain": [
       "[<matplotlib.lines.Line2D at 0x1a20441a20>]"
      ]
     },
     "execution_count": 91,
     "metadata": {},
     "output_type": "execute_result"
    },
    {
     "data": {
      "image/png": "[encoded data removed]",
      "text/plain": [
       "<Figure size 432x288 with 1 Axes>"
      ]
     },
     "metadata": {
      "needs_background": "light"
     },
     "output_type": "display_data"
    }
   ],
   "source": [
    "plt.xlabel(\"Distance in Miles from Farmers Place\")\n",
    "plt.ylabel(\"Price at the location\")\n",
    "plt.plot(X_Distance, y_price, \"r*--\")"
   ]
  },
  {
   "cell_type": "markdown",
   "metadata": {},
   "source": [
    "<br/><br/><br/>"
   ]
  },
  {
   "cell_type": "markdown",
   "metadata": {},
   "source": [
    "First, we'll use the Linear Regressing mechanism from scikit-learn, then we'll decode the same"
   ]
  },
  {
   "cell_type": "code",
   "execution_count": 92,
   "metadata": {},
   "outputs": [],
   "source": [
    "from sklearn.linear_model import LinearRegression\n",
    "from sklearn.metrics import mean_squared_error"
   ]
  },
  {
   "cell_type": "markdown",
   "metadata": {},
   "source": [
    "<br/><br/><br/>"
   ]
  },
  {
   "cell_type": "markdown",
   "metadata": {},
   "source": [
    "### The Unified ML Interface of Scikit-Learn\n",
    "\n",
    "The best thing about Scikit-learn is that it provides a unified interface for almost all Machine Learning algorithms so that you don't have to remember the interfaces. Here is how scikit-learn algorithms interfaces looks like\n",
    "\n",
    "\n",
    "- ___Create the instance of an algorithm with appropriate parameters -> algo = Algorithm(...)___\n",
    "- ___Call the .fit function with training data ->  algo.fit(...)___\n",
    "- ___Call the .predict function using test data to get back the predictions -> prediction = algo.predict(...)___\n",
    "\n",
    "\n",
    "- algo = Algorithm(...)\n",
    "- algo.fit(...)\n",
    "- algo.predict(...)"
   ]
  },
  {
   "cell_type": "markdown",
   "metadata": {},
   "source": [
    "_For attempting Linear Regression for the above problem statement this is what we'll be doing_"
   ]
  },
  {
   "cell_type": "markdown",
   "metadata": {},
   "source": [
    "<br/><br/>"
   ]
  },
  {
   "cell_type": "code",
   "execution_count": 93,
   "metadata": {},
   "outputs": [],
   "source": [
    "l_reg = LinearRegression()"
   ]
  },
  {
   "cell_type": "code",
   "execution_count": 94,
   "metadata": {},
   "outputs": [
    {
     "data": {
      "text/plain": [
       "LinearRegression(copy_X=True, fit_intercept=True, n_jobs=None,\n",
       "         normalize=False)"
      ]
     },
     "execution_count": 94,
     "metadata": {},
     "output_type": "execute_result"
    }
   ],
   "source": [
    "l_reg.fit(X_Distance, y_price)  # This is where the training of the model is done"
   ]
  },
  {
   "cell_type": "markdown",
   "metadata": {},
   "source": [
    "<br/><br/><br/>"
   ]
  },
  {
   "cell_type": "markdown",
   "metadata": {},
   "source": [
    "___Now we have trained our M.L Model, Let's predict the value for some data___\n",
    "\n",
    "<br/><br/>"
   ]
  },
  {
   "cell_type": "markdown",
   "metadata": {},
   "source": [
    "___For predicting the values, we need to provide column vector as input paramter(s)___"
   ]
  },
  {
   "cell_type": "markdown",
   "metadata": {},
   "source": [
    "<br/><br/><br/>"
   ]
  },
  {
   "cell_type": "code",
   "execution_count": 95,
   "metadata": {},
   "outputs": [],
   "source": [
    "check_at_distance = np.array([45]).reshape(1,1)"
   ]
  },
  {
   "cell_type": "code",
   "execution_count": 96,
   "metadata": {},
   "outputs": [],
   "source": [
    "predict = l_reg.predict(check_at_distance)"
   ]
  },
  {
   "cell_type": "code",
   "execution_count": 97,
   "metadata": {},
   "outputs": [
    {
     "data": {
      "text/plain": [
       "array([[73.2662014]])"
      ]
     },
     "execution_count": 97,
     "metadata": {},
     "output_type": "execute_result"
    }
   ],
   "source": [
    "predict"
   ]
  },
  {
   "cell_type": "markdown",
   "metadata": {},
   "source": [
    "<br/><br/><br/>"
   ]
  },
  {
   "cell_type": "markdown",
   "metadata": {},
   "source": [
    "_Let's see the predictions by plotting against original points_"
   ]
  },
  {
   "cell_type": "markdown",
   "metadata": {},
   "source": [
    "<br/><br/>"
   ]
  },
  {
   "cell_type": "code",
   "execution_count": 98,
   "metadata": {},
   "outputs": [
    {
     "data": {
      "text/plain": [
       "[<matplotlib.lines.Line2D at 0x1a204e9a58>]"
      ]
     },
     "execution_count": 98,
     "metadata": {},
     "output_type": "execute_result"
    },
    {
     "data": {
      "image/png": "[encoded data removed]",
      "text/plain": [
       "<Figure size 432x288 with 1 Axes>"
      ]
     },
     "metadata": {
      "needs_background": "light"
     },
     "output_type": "display_data"
    }
   ],
   "source": [
    "plt.xlabel(\"Distance in Miles from Farmers Place\")\n",
    "plt.ylabel(\"Price at the location\")\n",
    "plt.plot(X_Distance, y_price, \"r*\")\n",
    "plt.plot(check_at_distance, predict, \"g*\")"
   ]
  },
  {
   "cell_type": "markdown",
   "metadata": {},
   "source": [
    "<br/><br/>"
   ]
  },
  {
   "cell_type": "markdown",
   "metadata": {},
   "source": [
    "___Predicting for multiple values___"
   ]
  },
  {
   "cell_type": "markdown",
   "metadata": {},
   "source": [
    "<br/>"
   ]
  },
  {
   "cell_type": "code",
   "execution_count": 99,
   "metadata": {},
   "outputs": [],
   "source": [
    "check_at_distance = np.array([10, 22, 25, 30, 32, 32, 55, 62, 80, 100]).reshape(-1,1)"
   ]
  },
  {
   "cell_type": "code",
   "execution_count": 100,
   "metadata": {},
   "outputs": [
    {
     "data": {
      "text/plain": [
       "array([[ 10],\n",
       "       [ 22],\n",
       "       [ 25],\n",
       "       [ 30],\n",
       "       [ 32],\n",
       "       [ 32],\n",
       "       [ 55],\n",
       "       [ 62],\n",
       "       [ 80],\n",
       "       [100]])"
      ]
     },
     "execution_count": 100,
     "metadata": {},
     "output_type": "execute_result"
    }
   ],
   "source": [
    "check_at_distance"
   ]
  },
  {
   "cell_type": "code",
   "execution_count": 101,
   "metadata": {},
   "outputs": [],
   "source": [
    "predict = l_reg.predict(check_at_distance)"
   ]
  },
  {
   "cell_type": "code",
   "execution_count": 102,
   "metadata": {},
   "outputs": [
    {
     "data": {
      "text/plain": [
       "array([[ 24.49418411],\n",
       "       [ 41.21601861],\n",
       "       [ 45.39647723],\n",
       "       [ 52.36390828],\n",
       "       [ 55.15088069],\n",
       "       [ 55.15088069],\n",
       "       [ 87.20106348],\n",
       "       [ 96.95546693],\n",
       "       [122.03821868],\n",
       "       [149.90794284]])"
      ]
     },
     "execution_count": 102,
     "metadata": {},
     "output_type": "execute_result"
    }
   ],
   "source": [
    "predict"
   ]
  },
  {
   "cell_type": "markdown",
   "metadata": {},
   "source": [
    "<br/><br/>"
   ]
  },
  {
   "cell_type": "markdown",
   "metadata": {},
   "source": [
    "___Let's plot the predicted value against the training values___"
   ]
  },
  {
   "cell_type": "markdown",
   "metadata": {},
   "source": [
    "<br/>"
   ]
  },
  {
   "cell_type": "code",
   "execution_count": 103,
   "metadata": {},
   "outputs": [
    {
     "data": {
      "text/plain": [
       "[<matplotlib.lines.Line2D at 0x1a205d7da0>]"
      ]
     },
     "execution_count": 103,
     "metadata": {},
     "output_type": "execute_result"
    },
    {
     "data": {
      "image/png": "[encoded data removed]",
      "text/plain": [
       "<Figure size 432x288 with 1 Axes>"
      ]
     },
     "metadata": {
      "needs_background": "light"
     },
     "output_type": "display_data"
    }
   ],
   "source": [
    "plt.xlabel(\"Distance in Miles from Farmers Place\")\n",
    "plt.ylabel(\"Price at the location\")\n",
    "plt.plot(X_Distance, y_price, \"r*\")\n",
    "plt.plot(check_at_distance, predict, \"g^\")"
   ]
  },
  {
   "cell_type": "markdown",
   "metadata": {},
   "source": [
    "<br/>"
   ]
  },
  {
   "cell_type": "markdown",
   "metadata": {},
   "source": [
    "#### What Linear Regression Does?\n",
    "\n",
    "It attemps to generate the best fit line (Generally Straight) for training data set"
   ]
  },
  {
   "cell_type": "markdown",
   "metadata": {},
   "source": [
    "_Best fit :-  Defined as Line with least_ ___Mean Square Error___"
   ]
  },
  {
   "cell_type": "markdown",
   "metadata": {},
   "source": [
    "<br/><br/>"
   ]
  },
  {
   "cell_type": "markdown",
   "metadata": {},
   "source": [
    "___Remember___"
   ]
  },
  {
   "cell_type": "markdown",
   "metadata": {},
   "source": [
    "<br/>\n",
    "Machine Learning algorithm(s) doesn't mugs, but learns from data\n",
    "<br/><br/><br/>"
   ]
  },
  {
   "cell_type": "markdown",
   "metadata": {},
   "source": [
    "#### Let's see the Mean Square Error value for our LR method\n",
    "\n",
    "To know the Mean Square Error, we need to know the correct values so that we can compare against. Let's use our LR prediction to predict the data for original values"
   ]
  },
  {
   "cell_type": "markdown",
   "metadata": {},
   "source": [
    "<br/><br/>"
   ]
  },
  {
   "cell_type": "markdown",
   "metadata": {},
   "source": [
    "Let's use the Linear Regression algorithm to predict for ___Training Data___"
   ]
  },
  {
   "cell_type": "markdown",
   "metadata": {},
   "source": [
    "<br/><br/>"
   ]
  },
  {
   "cell_type": "code",
   "execution_count": 104,
   "metadata": {},
   "outputs": [],
   "source": [
    "predict = l_reg.predict(X_Distance)"
   ]
  },
  {
   "cell_type": "code",
   "execution_count": 105,
   "metadata": {},
   "outputs": [
    {
     "data": {
      "text/plain": [
       "array([[16.13326687],\n",
       "       [27.28115653],\n",
       "       [45.39647723],\n",
       "       [83.02060485],\n",
       "       [94.16849452]])"
      ]
     },
     "execution_count": 105,
     "metadata": {},
     "output_type": "execute_result"
    }
   ],
   "source": [
    "predict"
   ]
  },
  {
   "cell_type": "markdown",
   "metadata": {},
   "source": [
    "__Plot Original Vs. Training Data__"
   ]
  },
  {
   "cell_type": "code",
   "execution_count": 106,
   "metadata": {},
   "outputs": [
    {
     "data": {
      "text/plain": [
       "[<matplotlib.lines.Line2D at 0x1a20680dd8>]"
      ]
     },
     "execution_count": 106,
     "metadata": {},
     "output_type": "execute_result"
    },
    {
     "data": {
      "image/png": "[encoded data removed]",
      "text/plain": [
       "<Figure size 432x288 with 1 Axes>"
      ]
     },
     "metadata": {
      "needs_background": "light"
     },
     "output_type": "display_data"
    }
   ],
   "source": [
    "plt.xlabel(\"Distance in Miles from Farmers Place\")\n",
    "plt.ylabel(\"Price at the location\")\n",
    "plt.plot(X_Distance, y_price, \"r*\")\n",
    "plt.plot(X_Distance, predict, \"g*--\")"
   ]
  },
  {
   "cell_type": "markdown",
   "metadata": {},
   "source": [
    "<br/><br/><br/>"
   ]
  },
  {
   "cell_type": "markdown",
   "metadata": {},
   "source": [
    "___Let's calculate the Mean Squared Error___"
   ]
  },
  {
   "cell_type": "code",
   "execution_count": 107,
   "metadata": {},
   "outputs": [],
   "source": [
    "mse = mean_squared_error(y_price, predict)"
   ]
  },
  {
   "cell_type": "code",
   "execution_count": 108,
   "metadata": {},
   "outputs": [
    {
     "data": {
      "text/plain": [
       "26.09797274842141"
      ]
     },
     "execution_count": 108,
     "metadata": {},
     "output_type": "execute_result"
    }
   ],
   "source": [
    "mse"
   ]
  },
  {
   "cell_type": "markdown",
   "metadata": {},
   "source": [
    "<br/><br/><br/>"
   ]
  },
  {
   "cell_type": "markdown",
   "metadata": {},
   "source": [
    "### The Maths behind Linear Regression and How it Works?"
   ]
  },
  {
   "cell_type": "markdown",
   "metadata": {},
   "source": [
    "<br/><br/>"
   ]
  },
  {
   "cell_type": "markdown",
   "metadata": {},
   "source": [
    "The Equation of Straight Line\n",
    "\n",
    "\n",
    "__y = mX + b__"
   ]
  },
  {
   "cell_type": "markdown",
   "metadata": {},
   "source": [
    "Given X (X_distance) and y = mX + b\n"
   ]
  },
  {
   "cell_type": "markdown",
   "metadata": {},
   "source": [
    "#### Let's find \"m\" and \"b\" manually for our own Data Set\n",
    "\n",
    "___m = Slope___\n",
    "___b = Y-Intercept___"
   ]
  },
  {
   "cell_type": "markdown",
   "metadata": {},
   "source": [
    "<br/><br/>"
   ]
  },
  {
   "cell_type": "markdown",
   "metadata": {},
   "source": [
    "The formula to calculate __Slope__ is\n",
    "\n",
    "\n",
    "__( y_end - y_begin ) / ( X_end - X_begin )__"
   ]
  },
  {
   "cell_type": "markdown",
   "metadata": {},
   "source": [
    "<br/><br/>"
   ]
  },
  {
   "cell_type": "code",
   "execution_count": 109,
   "metadata": {},
   "outputs": [
    {
     "data": {
      "text/plain": [
       "(array([[ 4],\n",
       "        [12],\n",
       "        [25],\n",
       "        [52],\n",
       "        [60]]), array([[10],\n",
       "        [28],\n",
       "        [54],\n",
       "        [84],\n",
       "        [90]]))"
      ]
     },
     "execution_count": 109,
     "metadata": {},
     "output_type": "execute_result"
    }
   ],
   "source": [
    " X_Distance, y_price"
   ]
  },
  {
   "cell_type": "code",
   "execution_count": 110,
   "metadata": {},
   "outputs": [],
   "source": [
    "y_end = 90\n",
    "y_begin = 10\n",
    "X_end = 60\n",
    "X_begin = 4"
   ]
  },
  {
   "cell_type": "code",
   "execution_count": 111,
   "metadata": {},
   "outputs": [],
   "source": [
    "slope = (y_end - y_begin) / (X_end - X_begin)"
   ]
  },
  {
   "cell_type": "code",
   "execution_count": 112,
   "metadata": {},
   "outputs": [
    {
     "data": {
      "text/plain": [
       "1.4285714285714286"
      ]
     },
     "execution_count": 112,
     "metadata": {},
     "output_type": "execute_result"
    }
   ],
   "source": [
    "slope"
   ]
  },
  {
   "cell_type": "markdown",
   "metadata": {},
   "source": [
    "__i.e. m = 1.42__"
   ]
  },
  {
   "cell_type": "markdown",
   "metadata": {},
   "source": [
    "#### Let's find the  Y - Intercept (i.e. 'b')\n",
    "\n",
    "Y-Intercept means value of y when X = 0\n",
    "\n",
    "___Using Point Slope Equation___\n",
    "\n",
    "__( y - y1 ) = m( X - X1 )__"
   ]
  },
  {
   "cell_type": "markdown",
   "metadata": {},
   "source": [
    "- __y1 = 10__\n",
    "- __X1 = 4__"
   ]
  },
  {
   "cell_type": "markdown",
   "metadata": {},
   "source": [
    "__( y - 10 ) = 1.42( X - 4 )__"
   ]
  },
  {
   "cell_type": "markdown",
   "metadata": {},
   "source": [
    "__y - 10 = 1.42X - 1.42 * 4__"
   ]
  },
  {
   "cell_type": "markdown",
   "metadata": {},
   "source": [
    "__y - 10 = 1.42X - 5.68__"
   ]
  },
  {
   "cell_type": "markdown",
   "metadata": {},
   "source": [
    "__y = 1.42X - 5.68 + 10__"
   ]
  },
  {
   "cell_type": "markdown",
   "metadata": {},
   "source": [
    "__y = 1.42X + 4.32__"
   ]
  },
  {
   "cell_type": "markdown",
   "metadata": {},
   "source": [
    "Substituting the output with __y = mX + b__ we get\n",
    "\n",
    "- __m = 1.42__\n",
    "- __b = 4.32__"
   ]
  },
  {
   "cell_type": "markdown",
   "metadata": {},
   "source": [
    "<br/><br/>"
   ]
  },
  {
   "cell_type": "markdown",
   "metadata": {},
   "source": [
    "#### Wondering what was the value of 'm' and 'b' given by our Linear Regression Algorithms"
   ]
  },
  {
   "cell_type": "code",
   "execution_count": 113,
   "metadata": {},
   "outputs": [
    {
     "data": {
      "text/plain": [
       "array([[1.39348621]])"
      ]
     },
     "execution_count": 113,
     "metadata": {},
     "output_type": "execute_result"
    }
   ],
   "source": [
    "# 'm'\n",
    "l_reg.coef_"
   ]
  },
  {
   "cell_type": "code",
   "execution_count": 114,
   "metadata": {},
   "outputs": [
    {
     "data": {
      "text/plain": [
       "array([10.55932203])"
      ]
     },
     "execution_count": 114,
     "metadata": {},
     "output_type": "execute_result"
    }
   ],
   "source": [
    "# 'b'\n",
    "l_reg.intercept_"
   ]
  },
  {
   "cell_type": "markdown",
   "metadata": {},
   "source": [
    "<br/><br/><br/>"
   ]
  },
  {
   "cell_type": "markdown",
   "metadata": {},
   "source": [
    "#### Exercise\n",
    "\n",
    "Calculate the Y_price values using our own 'm' & 'b' and then calculate the Mean Square Error\n",
    "\n",
    "- __m = 1.42__\n",
    "- __b = 4.32__"
   ]
  },
  {
   "cell_type": "markdown",
   "metadata": {},
   "source": [
    "<br/>"
   ]
  },
  {
   "cell_type": "code",
   "execution_count": 115,
   "metadata": {},
   "outputs": [],
   "source": [
    "# %load chap6-0.py\n",
    "new_y = np.array([])\n",
    "slope_m = 1.42\n",
    "b_intercept = 4.32\n",
    "\n",
    "for X_value in X_Distance:\n",
    "    y_val = (X_value * slope_m) + b_intercept\n",
    "    new_y = np.append(new_y,[y_val])\n",
    "\n",
    "new_y = new_y.reshape(5,-1)"
   ]
  },
  {
   "cell_type": "code",
   "execution_count": 116,
   "metadata": {},
   "outputs": [
    {
     "data": {
      "text/plain": [
       "array([[10.  ],\n",
       "       [21.36],\n",
       "       [39.82],\n",
       "       [78.16],\n",
       "       [89.52]])"
      ]
     },
     "execution_count": 116,
     "metadata": {},
     "output_type": "execute_result"
    }
   ],
   "source": [
    "new_y"
   ]
  },
  {
   "cell_type": "code",
   "execution_count": 117,
   "metadata": {},
   "outputs": [
    {
     "data": {
      "text/plain": [
       "55.89960000000001"
      ]
     },
     "execution_count": 117,
     "metadata": {},
     "output_type": "execute_result"
    }
   ],
   "source": [
    "our_mean_square_error = mean_squared_error(y_price, new_y)\n",
    "our_mean_square_error"
   ]
  },
  {
   "cell_type": "markdown",
   "metadata": {},
   "source": [
    "<br/><br/>"
   ]
  },
  {
   "cell_type": "markdown",
   "metadata": {},
   "source": [
    "___Let's plot both the lines___"
   ]
  },
  {
   "cell_type": "code",
   "execution_count": 118,
   "metadata": {},
   "outputs": [
    {
     "data": {
      "text/plain": [
       "[<matplotlib.lines.Line2D at 0x1a207b8908>]"
      ]
     },
     "execution_count": 118,
     "metadata": {},
     "output_type": "execute_result"
    },
    {
     "data": {
      "image/png": "[encoded data removed]",
      "text/plain": [
       "<Figure size 432x288 with 1 Axes>"
      ]
     },
     "metadata": {
      "needs_background": "light"
     },
     "output_type": "display_data"
    }
   ],
   "source": [
    "plt.xlabel(\"Distance in Miles from the farm\")\n",
    "plt.ylabel(\"Price at the location\")\n",
    "plt.plot(X_Distance, y_price, \"r*\")\n",
    "plt.plot(X_Distance, predict, \"b+--\")\n",
    "plt.plot(X_Distance, new_y ,\"g*--\")"
   ]
  },
  {
   "cell_type": "markdown",
   "metadata": {},
   "source": [
    "<br/><br/>"
   ]
  },
  {
   "cell_type": "markdown",
   "metadata": {},
   "source": [
    "#### How to get Better Line / Reduced Mean Squared Error (Gradient Descent)\n",
    "\n",
    "We need to change the value of 'm' and 'b' in small amount and then check the __Mean Square Error__. Try to reach a point where MSE is changed from __~55__ to __~26__ as provided by our Linear Regression Algorithm"
   ]
  },
  {
   "cell_type": "markdown",
   "metadata": {},
   "source": [
    "<br/><br/>"
   ]
  },
  {
   "cell_type": "markdown",
   "metadata": {},
   "source": [
    "#### The Mathematica Behind Gradient Descent\n",
    "\n",
    "_Changing the value in small amount w.r.t individual variables_"
   ]
  },
  {
   "cell_type": "markdown",
   "metadata": {},
   "source": [
    "<br/>\n",
    "\n",
    "_Here is how the Mean Square Error Look and Gradient calculation w.r.t \"m\" and \"b\" looks like_\n",
    "\n",
    "<br/><br/>"
   ]
  },
  {
   "cell_type": "markdown",
   "metadata": {},
   "source": [
    "![](pd.png)"
   ]
  },
  {
   "cell_type": "markdown",
   "metadata": {},
   "source": [
    "<br/><br/>\n",
    "\n",
    "___Once we have the gradient, we can change the value of \"m\" and \"b\" along with learning rate___\n",
    "\n",
    "<br/><br/>"
   ]
  },
  {
   "cell_type": "code",
   "execution_count": 119,
   "metadata": {},
   "outputs": [],
   "source": [
    "m_starting_value = 0\n",
    "b_starting_value = 0\n",
    "iterations = 100000  #epocs\n",
    "learning_rate = 0.0001  \n",
    "N = len(X_Distance)  # Number of Items"
   ]
  },
  {
   "cell_type": "markdown",
   "metadata": {},
   "source": [
    "<br/><br/>"
   ]
  },
  {
   "cell_type": "code",
   "execution_count": 120,
   "metadata": {},
   "outputs": [],
   "source": [
    "m_value = m_starting_value\n",
    "b_value = b_starting_value\n",
    "\n",
    "for i in range(iterations):\n",
    "    ny = np.array([m_value * x_val + b_value for x_val in X_Distance ])\n",
    "    \n",
    "    mse = mean_squared_error(y_price, ny.reshape(-1,1))\n",
    "    \n",
    "    m_gradient = 1/N * sum((-2) * X_Distance * (y_price - ny.reshape(-1,1)))\n",
    "    \n",
    "    b_gradient = 1/N *sum((-2) * (y_price - ny))\n",
    "    \n",
    "    m_value = m_value - (learning_rate * m_gradient)\n",
    "    \n",
    "    b_value = b_value - (learning_rate * b_gradient)"
   ]
  },
  {
   "cell_type": "code",
   "execution_count": 121,
   "metadata": {},
   "outputs": [
    {
     "data": {
      "text/plain": [
       "(array([1.3937422]), array([10.54746394]))"
      ]
     },
     "execution_count": 121,
     "metadata": {},
     "output_type": "execute_result"
    }
   ],
   "source": [
    "m_value, b_value"
   ]
  },
  {
   "cell_type": "markdown",
   "metadata": {},
   "source": [
    "<br/><br/>"
   ]
  },
  {
   "cell_type": "code",
   "execution_count": 122,
   "metadata": {},
   "outputs": [
    {
     "data": {
      "text/plain": [
       "(array([[1.39348621]]), array([10.55932203]))"
      ]
     },
     "execution_count": 122,
     "metadata": {},
     "output_type": "execute_result"
    }
   ],
   "source": [
    "l_reg.coef_, l_reg.intercept_"
   ]
  },
  {
   "cell_type": "markdown",
   "metadata": {},
   "source": [
    "<br/><br/><br/><br/><br/><br/><br/>"
   ]
  },
  {
   "cell_type": "markdown",
   "metadata": {},
   "source": [
    "___Lets take another example___"
   ]
  },
  {
   "cell_type": "markdown",
   "metadata": {},
   "source": [
    "__Prices of 1000 sqft land__\n",
    "\n",
    "- Downtown (0 Miles)  -   200,000 Dollars\n",
    "- City (20 Miles)  -      1,75,000 Dollars\n",
    "- Outskirts (35 Miles) -  1,27,000 Dollars\n",
    "- Town (60 Miles) -         85,000 Dollars\n",
    "- Village (85 Miles) -      59,000 Dollars\n",
    "- Farms (120 Miles) -       43,000 Dollars\n"
   ]
  },
  {
   "cell_type": "code",
   "execution_count": 123,
   "metadata": {},
   "outputs": [],
   "source": [
    "X_property_distance_from_downtown = np.array([0, 20, 35, 60, 85, 120 ]).reshape(-1,1)"
   ]
  },
  {
   "cell_type": "code",
   "execution_count": 124,
   "metadata": {},
   "outputs": [],
   "source": [
    "y_property_price = np.array([200000, 175000, 127000, 85000, 59000, 43000]).reshape(-1,1)"
   ]
  },
  {
   "cell_type": "markdown",
   "metadata": {},
   "source": [
    "<br/><br/>"
   ]
  },
  {
   "cell_type": "markdown",
   "metadata": {},
   "source": [
    "___Let's plot the same___"
   ]
  },
  {
   "cell_type": "code",
   "execution_count": 125,
   "metadata": {},
   "outputs": [
    {
     "data": {
      "text/plain": [
       "[<matplotlib.lines.Line2D at 0x1a2081e320>]"
      ]
     },
     "execution_count": 125,
     "metadata": {},
     "output_type": "execute_result"
    },
    {
     "data": {
      "image/png": "[encoded data removed]",
      "text/plain": [
       "<Figure size 432x288 with 1 Axes>"
      ]
     },
     "metadata": {
      "needs_background": "light"
     },
     "output_type": "display_data"
    }
   ],
   "source": [
    "plt.xlabel(\"Distance in Miles from Downtown\")\n",
    "plt.ylabel(\"Price at the location\")\n",
    "plt.plot(X_property_distance_from_downtown, y_property_price, \"r*--\")"
   ]
  },
  {
   "cell_type": "markdown",
   "metadata": {},
   "source": [
    "<br/><br/><br/>"
   ]
  },
  {
   "cell_type": "markdown",
   "metadata": {},
   "source": [
    "#### Exercise \n",
    "\n",
    "Use sklearn Linear Regression for the above mentioned data and display the following\n",
    "\n",
    "- Mean Squared Error\n",
    "- Slope\n",
    "- Intercept\n"
   ]
  },
  {
   "cell_type": "markdown",
   "metadata": {},
   "source": [
    "<br/>"
   ]
  },
  {
   "cell_type": "code",
   "execution_count": 126,
   "metadata": {},
   "outputs": [
    {
     "name": "stdout",
     "output_type": "stream",
     "text": [
      "Mean Sqared Error =>  247757666.09880748\n",
      "slope and Intercept =>  [[-1382.62350937]] [188573.25383305]\n"
     ]
    }
   ],
   "source": [
    "# %load chap6-1.py\n",
    "prop_lreg = LinearRegression()\n",
    "\n",
    "prop_lreg.fit(X_property_distance_from_downtown, y_property_price)\n",
    "\n",
    "y_price_prdict = prop_lreg.predict(X_property_distance_from_downtown)\n",
    "\n",
    "mse = mean_squared_error(y_property_price, y_price_prdict)\n",
    "print(\"Mean Sqared Error => \", mse)\n",
    "print(\"slope and Intercept => \", prop_lreg.coef_, prop_lreg.intercept_ )"
   ]
  },
  {
   "cell_type": "code",
   "execution_count": 127,
   "metadata": {},
   "outputs": [
    {
     "data": {
      "text/plain": [
       "array([[188573.25383305],\n",
       "       [160920.78364566],\n",
       "       [140181.43100511],\n",
       "       [105615.84327087],\n",
       "       [ 71050.25553663],\n",
       "       [ 22658.43270869]])"
      ]
     },
     "execution_count": 127,
     "metadata": {},
     "output_type": "execute_result"
    }
   ],
   "source": [
    "y_price_prdict"
   ]
  },
  {
   "cell_type": "markdown",
   "metadata": {},
   "source": [
    "<br/><br/><br/>"
   ]
  },
  {
   "cell_type": "code",
   "execution_count": 128,
   "metadata": {},
   "outputs": [
    {
     "data": {
      "text/plain": [
       "array([[200000],\n",
       "       [175000],\n",
       "       [127000],\n",
       "       [ 85000],\n",
       "       [ 59000],\n",
       "       [ 43000]])"
      ]
     },
     "execution_count": 128,
     "metadata": {},
     "output_type": "execute_result"
    }
   ],
   "source": [
    "y_property_price"
   ]
  },
  {
   "cell_type": "markdown",
   "metadata": {},
   "source": [
    "__Plot the Data__"
   ]
  },
  {
   "cell_type": "code",
   "execution_count": 129,
   "metadata": {},
   "outputs": [
    {
     "data": {
      "text/plain": [
       "[<matplotlib.lines.Line2D at 0x1a208b74a8>]"
      ]
     },
     "execution_count": 129,
     "metadata": {},
     "output_type": "execute_result"
    },
    {
     "data": {
      "image/png": "[encoded data removed]",
      "text/plain": [
       "<Figure size 432x288 with 1 Axes>"
      ]
     },
     "metadata": {
      "needs_background": "light"
     },
     "output_type": "display_data"
    }
   ],
   "source": [
    "plt.xlabel(\"Distance in Miles from Downtown\")\n",
    "plt.ylabel(\"Price at the location\")\n",
    "plt.plot(X_property_distance_from_downtown, y_property_price, \"r*--\")\n",
    "plt.plot(X_property_distance_from_downtown, y_price_prdict, \"g*--\")"
   ]
  },
  {
   "cell_type": "markdown",
   "metadata": {},
   "source": [
    "<br/><br/><br/><br/>"
   ]
  },
  {
   "cell_type": "markdown",
   "metadata": {},
   "source": [
    "__Mean Squared Error, Slope and Even intercept are big values, which may lead to integer capacity__\n",
    "\n",
    "_We need to normalize data_"
   ]
  },
  {
   "cell_type": "code",
   "execution_count": 130,
   "metadata": {},
   "outputs": [],
   "source": [
    "from sklearn.preprocessing import MinMaxScaler"
   ]
  },
  {
   "cell_type": "markdown",
   "metadata": {},
   "source": [
    "<br/><br/>"
   ]
  },
  {
   "cell_type": "code",
   "execution_count": 131,
   "metadata": {},
   "outputs": [
    {
     "name": "stderr",
     "output_type": "stream",
     "text": [
      "/Users/dkgeek/Anaconda3/anaconda3/lib/python3.7/site-packages/sklearn/utils/validation.py:595: DataConversionWarning: Data with input dtype int64 was converted to float64 by MinMaxScaler.\n",
      "  warnings.warn(msg, DataConversionWarning)\n"
     ]
    }
   ],
   "source": [
    "mm_scalar_prop_price = MinMaxScaler()\n",
    "\n",
    "y_property_price = mm_scalar_prop_price.fit_transform(y_property_price)"
   ]
  },
  {
   "cell_type": "code",
   "execution_count": 132,
   "metadata": {},
   "outputs": [
    {
     "data": {
      "text/plain": [
       "array([[1.        ],\n",
       "       [0.84076433],\n",
       "       [0.53503185],\n",
       "       [0.26751592],\n",
       "       [0.10191083],\n",
       "       [0.        ]])"
      ]
     },
     "execution_count": 132,
     "metadata": {},
     "output_type": "execute_result"
    }
   ],
   "source": [
    "y_property_price"
   ]
  },
  {
   "cell_type": "code",
   "execution_count": 133,
   "metadata": {},
   "outputs": [
    {
     "name": "stderr",
     "output_type": "stream",
     "text": [
      "/Users/dkgeek/Anaconda3/anaconda3/lib/python3.7/site-packages/sklearn/utils/validation.py:595: DataConversionWarning: Data with input dtype int64 was converted to float64 by MinMaxScaler.\n",
      "  warnings.warn(msg, DataConversionWarning)\n"
     ]
    }
   ],
   "source": [
    "mm_scalar_dist = MinMaxScaler()\n",
    "X_property_distance_from_downtown = mm_scalar_dist.fit_transform(X_property_distance_from_downtown)"
   ]
  },
  {
   "cell_type": "code",
   "execution_count": 134,
   "metadata": {},
   "outputs": [
    {
     "data": {
      "text/plain": [
       "array([[0.        ],\n",
       "       [0.16666667],\n",
       "       [0.29166667],\n",
       "       [0.5       ],\n",
       "       [0.70833333],\n",
       "       [1.        ]])"
      ]
     },
     "execution_count": 134,
     "metadata": {},
     "output_type": "execute_result"
    }
   ],
   "source": [
    "X_property_distance_from_downtown"
   ]
  },
  {
   "cell_type": "markdown",
   "metadata": {},
   "source": [
    "<br/>\n",
    "\n",
    "___The scaled plot shall look similar to Non Scaled plot___\n",
    "\n",
    "<br/>"
   ]
  },
  {
   "cell_type": "code",
   "execution_count": 135,
   "metadata": {},
   "outputs": [
    {
     "data": {
      "text/plain": [
       "[<matplotlib.lines.Line2D at 0x1a20a1d4a8>]"
      ]
     },
     "execution_count": 135,
     "metadata": {},
     "output_type": "execute_result"
    },
    {
     "data": {
      "image/png": "[encoded data removed]",
      "text/plain": [
       "<Figure size 432x288 with 1 Axes>"
      ]
     },
     "metadata": {
      "needs_background": "light"
     },
     "output_type": "display_data"
    }
   ],
   "source": [
    "plt.xlabel(\"Distance in Miles from Downtown\")\n",
    "plt.ylabel(\"Price at the location\")\n",
    "plt.plot(X_property_distance_from_downtown, y_property_price, \"r*--\")"
   ]
  },
  {
   "cell_type": "markdown",
   "metadata": {},
   "source": [
    "<br/><br/>"
   ]
  },
  {
   "cell_type": "code",
   "execution_count": 138,
   "metadata": {},
   "outputs": [
    {
     "name": "stdout",
     "output_type": "stream",
     "text": [
      "Mean Sqared Error =>  0.010051428702941595\n",
      "slope and Intercept =>  [[-1.0567823]] [0.92721818]\n"
     ]
    }
   ],
   "source": [
    "prop_lreg = LinearRegression()\n",
    "\n",
    "prop_lreg.fit(X_property_distance_from_downtown, y_property_price)\n",
    "\n",
    "y_price_predict = prop_lreg.predict(X_property_distance_from_downtown)\n",
    "\n",
    "mse = mean_squared_error(y_property_price, y_price_predict)\n",
    "print(\"Mean Sqared Error => \", mse)\n",
    "print(\"slope and Intercept => \", prop_lreg.coef_, prop_lreg.intercept_ )"
   ]
  },
  {
   "cell_type": "code",
   "execution_count": 139,
   "metadata": {},
   "outputs": [
    {
     "data": {
      "text/plain": [
       "array([[ 0.92721818],\n",
       "       [ 0.75108779],\n",
       "       [ 0.61899001],\n",
       "       [ 0.39882703],\n",
       "       [ 0.17866405],\n",
       "       [-0.12956412]])"
      ]
     },
     "execution_count": 139,
     "metadata": {},
     "output_type": "execute_result"
    }
   ],
   "source": [
    "y_price_predict"
   ]
  },
  {
   "cell_type": "markdown",
   "metadata": {},
   "source": [
    "<br/><br/>\n",
    "\n",
    "#### How to convert y_price_predict into actual price ?\n",
    "\n",
    "___MinMaxScalar() provides .inverse_transform(...)__\n",
    "\n",
    "<br/><br/>"
   ]
  },
  {
   "cell_type": "code",
   "execution_count": 140,
   "metadata": {},
   "outputs": [
    {
     "data": {
      "text/plain": [
       "array([[188573.25383305],\n",
       "       [160920.78364566],\n",
       "       [140181.43100511],\n",
       "       [105615.84327087],\n",
       "       [ 71050.25553663],\n",
       "       [ 22658.43270869]])"
      ]
     },
     "execution_count": 140,
     "metadata": {},
     "output_type": "execute_result"
    }
   ],
   "source": [
    "mm_scalar_prop_price.inverse_transform(y_price_predict)"
   ]
  },
  {
   "cell_type": "code",
   "execution_count": 141,
   "metadata": {},
   "outputs": [
    {
     "data": {
      "text/plain": [
       "array([[  0.],\n",
       "       [ 20.],\n",
       "       [ 35.],\n",
       "       [ 60.],\n",
       "       [ 85.],\n",
       "       [120.]])"
      ]
     },
     "execution_count": 141,
     "metadata": {},
     "output_type": "execute_result"
    }
   ],
   "source": [
    "mm_scalar_dist.inverse_transform(X_property_distance_from_downtown)"
   ]
  },
  {
   "cell_type": "markdown",
   "metadata": {},
   "source": [
    "<br/><br/>"
   ]
  },
  {
   "cell_type": "markdown",
   "metadata": {},
   "source": [
    "#### Exercise \n",
    "\n",
    "Get the Slope and Intercept by calculating using __y = mX + b__ formula as earlier and find the __Mean Squared Error__"
   ]
  },
  {
   "cell_type": "code",
   "execution_count": null,
   "metadata": {},
   "outputs": [],
   "source": [
    "X_property_distance_from_downtown = mm_scalar_dist.inverse_transform(X_property_distance_from_downtown) \n",
    "y_property_price = mm_scalar_prop_price.inverse_transform(y_property_price)"
   ]
  },
  {
   "cell_type": "code",
   "execution_count": null,
   "metadata": {},
   "outputs": [],
   "source": [
    "X_property_distance_from_downtown, y_property_price"
   ]
  },
  {
   "cell_type": "code",
   "execution_count": null,
   "metadata": {},
   "outputs": [],
   "source": [
    "%load chap6-2.py"
   ]
  },
  {
   "cell_type": "markdown",
   "metadata": {},
   "source": [
    "<br/><br/><br/>"
   ]
  }
 ],
 "metadata": {
  "kernelspec": {
   "display_name": "Python 3",
   "language": "python",
   "name": "python3"
  },
  "language_info": {
   "codemirror_mode": {
    "name": "ipython",
    "version": 3
   },
   "file_extension": ".py",
   "mimetype": "text/x-python",
   "name": "python",
   "nbconvert_exporter": "python",
   "pygments_lexer": "ipython3",
   "version": "3.7.1"
  }
 },
 "nbformat": 4,
 "nbformat_minor": 2
}
