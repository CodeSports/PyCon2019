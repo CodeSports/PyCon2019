{
 "cells": [
  {
   "cell_type": "markdown",
   "metadata": {},
   "source": [
    "   \n",
    "# #PyCon2019: Hello World of Machine Learning using Scikit-learn\n",
    "\n",
    "\n",
    "## [0] - Welcome & Introduction\n"
   ]
  },
  {
   "cell_type": "markdown",
   "metadata": {},
   "source": [
    "<br/>"
   ]
  },
  {
   "cell_type": "markdown",
   "metadata": {},
   "source": [
    "### Prerequisite\n",
    "\n",
    "___Install Anaconda Navigator into your laptops from___\n",
    "\n",
    "### https://www.anaconda.com/distribution/#download-section\n",
    "\n",
    "<br/><br/>\n",
    "\n",
    "___Download Tutorial Notebooks from___\n",
    "\n",
    "### http://bit.ly/PyCon_2019\n",
    "\n",
    "We've selected Anaconda Navigator because it has everything we need to complete this tutorial.\n",
    "\n"
   ]
  },
  {
   "cell_type": "markdown",
   "metadata": {},
   "source": [
    "<br/>"
   ]
  },
  {
   "cell_type": "markdown",
   "metadata": {},
   "source": [
    "<br/><br/>\n",
    "\n",
    "\n",
    "___This tutorial will not make you an expert in Machine Learning but will cover enough things to acquaint, enable and empower you to understand, explore and exploits the concept and idea behind it.___\n",
    "\n",
    "<br/><br/>"
   ]
  },
  {
   "cell_type": "markdown",
   "metadata": {},
   "source": [
    "<br/><br/><br/>"
   ]
  },
  {
   "cell_type": "markdown",
   "metadata": {},
   "source": [
    "<br/><br/><br/>\n",
    "\n",
    "### Tutorial Agenda\n",
    "\n",
    "   \n",
    "- #### [0] What is M.L, A.I. and D.L?\n",
    "- #### [1] The need of M.L.\n",
    "- #### [2] Machine Learning Algorithms - _Supervised, UnSupervised & Reinforcement_\n",
    "- #### [3] Scikit-Learn - Introduction\n",
    "- #### [4] Machine Learning Prerequisite - NumPy and Matplotlib\n",
    "- #### [5] Iris: The Hello World ML Dataset from Scikit-Learn\n",
    "- #### [6] Supervised Learning - Linear Regression\n",
    "- #### [7] Supervised Learning - K-Nearest Neighbour\n",
    "- #### [8] Unsupervised Learning - K-Mean Clustering\n",
    "- #### [9] Managing Real World M.L.Data - Using Pandas\n",
    "- #### [10] K-Mean Clustering - Real World Data & Pandas\n",
    "- #### [11] Excrcise - Mapping Application \n"
   ]
  },
  {
   "cell_type": "markdown",
   "metadata": {},
   "source": [
    "<br/>"
   ]
  },
  {
   "cell_type": "markdown",
   "metadata": {},
   "source": [
    "<br/>"
   ]
  },
  {
   "cell_type": "markdown",
   "metadata": {},
   "source": [
    "<br/>"
   ]
  },
  {
   "cell_type": "markdown",
   "metadata": {},
   "source": [
    "### [0] What is A.I, M.L, and D.L?"
   ]
  },
  {
   "cell_type": "markdown",
   "metadata": {},
   "source": [
    "<br/><br/>\n",
    "\n",
    "#### A.I. -> Any decision taken without direct intervention or supervision of the human brain\n",
    "\n",
    "<br/><br/>"
   ]
  },
  {
   "cell_type": "markdown",
   "metadata": {},
   "source": [
    "<br/>"
   ]
  },
  {
   "cell_type": "markdown",
   "metadata": {},
   "source": [
    "<img src=\"AI.png\" width=\"200\" height=\"200\">"
   ]
  },
  {
   "cell_type": "markdown",
   "metadata": {},
   "source": [
    "<img src=\"ML.png\" width=\"200\" height=\"200\">"
   ]
  },
  {
   "cell_type": "markdown",
   "metadata": {},
   "source": [
    "<img src=\"DL.png\" width=\"200\" height=\"200\">\n",
    "\n",
    "<br/>"
   ]
  },
  {
   "cell_type": "markdown",
   "metadata": {},
   "source": [
    "<br/>"
   ]
  }
 ],
 "metadata": {
  "kernelspec": {
   "display_name": "Python 3",
   "language": "python",
   "name": "python3"
  },
  "language_info": {
   "codemirror_mode": {
    "name": "ipython",
    "version": 3
   },
   "file_extension": ".py",
   "mimetype": "text/x-python",
   "name": "python",
   "nbconvert_exporter": "python",
   "pygments_lexer": "ipython3",
   "version": "3.7.1"
  }
 },
 "nbformat": 4,
 "nbformat_minor": 2
}
